{
 "cells": [
  {
   "cell_type": "code",
   "execution_count": 5,
   "id": "5a6bdbb5",
   "metadata": {
    "collapsed": false
   },
   "outputs": [],
   "source": [
    "%matplotlib inline"
   ]
  },
  {
   "cell_type": "code",
   "execution_count": null,
   "id": "f1aecf77",
   "metadata": {
    "collapsed": false
   },
   "outputs": [],
   "source": [
    "run sel_time 2 Dual first correct score distractor ED\n"
   ]
  },
  {
   "cell_type": "code",
   "execution_count": 33,
   "id": "3ddda6eb",
   "metadata": {
    "collapsed": false
   },
   "outputs": [
    {
     "name": "stdout",
     "output_type": "stream",
     "text": [
      "coefs (1, 693)\n",
      "sample DualGo\n",
      "days [1 2 3]\n"
     ]
    },
    {
     "name": "stdout",
     "output_type": "stream",
     "text": [
      "avg noise over trials\n"
     ]
    },
    {
     "name": "stderr",
     "output_type": "stream",
     "text": [
      "\r",
      "bootstrap:   0% 0/1000 [00:00<?, ?it/s]"
     ]
    },
    {
     "name": "stderr",
     "output_type": "stream",
     "text": [
      "\r",
      "bootstrap:   0% 1/1000 [00:00<01:55,  8.64it/s]"
     ]
    },
    {
     "name": "stderr",
     "output_type": "stream",
     "text": [
      "\r",
      "bootstrap:   5% 46/1000 [00:00<00:03, 250.01it/s]"
     ]
    },
    {
     "name": "stderr",
     "output_type": "stream",
     "text": [
      "\r",
      "bootstrap:   9% 91/1000 [00:00<00:02, 330.81it/s]"
     ]
    },
    {
     "name": "stderr",
     "output_type": "stream",
     "text": [
      "\r",
      "bootstrap:  16% 156/1000 [00:00<00:01, 449.96it/s]"
     ]
    },
    {
     "name": "stderr",
     "output_type": "stream",
     "text": [
      "\r",
      "bootstrap:  22% 224/1000 [00:00<00:01, 525.56it/s]"
     ]
    },
    {
     "name": "stderr",
     "output_type": "stream",
     "text": [
      "\r",
      "bootstrap:  30% 302/1000 [00:00<00:01, 594.27it/s]"
     ]
    },
    {
     "name": "stderr",
     "output_type": "stream",
     "text": [
      "\r",
      "bootstrap:  39% 392/1000 [00:00<00:00, 686.76it/s]"
     ]
    },
    {
     "name": "stderr",
     "output_type": "stream",
     "text": [
      "\r",
      "bootstrap:  47% 468/1000 [00:00<00:00, 703.99it/s]"
     ]
    },
    {
     "name": "stderr",
     "output_type": "stream",
     "text": [
      "\r",
      "bootstrap:  54% 540/1000 [00:00<00:00, 684.36it/s]"
     ]
    },
    {
     "name": "stderr",
     "output_type": "stream",
     "text": [
      "\r",
      "bootstrap:  61% 610/1000 [00:01<00:00, 671.43it/s]"
     ]
    },
    {
     "name": "stderr",
     "output_type": "stream",
     "text": [
      "\r",
      "bootstrap:  68% 684/1000 [00:01<00:00, 690.27it/s]"
     ]
    },
    {
     "name": "stderr",
     "output_type": "stream",
     "text": [
      "\r",
      "bootstrap:  77% 768/1000 [00:01<00:00, 731.03it/s]"
     ]
    },
    {
     "name": "stderr",
     "output_type": "stream",
     "text": [
      "\r",
      "bootstrap:  86% 858/1000 [00:01<00:00, 774.85it/s]"
     ]
    },
    {
     "name": "stderr",
     "output_type": "stream",
     "text": [
      "\r",
      "bootstrap:  94% 941/1000 [00:01<00:00, 783.08it/s]"
     ]
    },
    {
     "name": "stderr",
     "output_type": "stream",
     "text": [
      "\r",
      "bootstrap: 100% 1000/1000 [00:01<00:00, 599.88it/s]"
     ]
    },
    {
     "name": "stderr",
     "output_type": "stream",
     "text": [
      "\n"
     ]
    },
    {
     "name": "stdout",
     "output_type": "stream",
     "text": [
      "stats (1000, 84)\n"
     ]
    },
    {
     "name": "stderr",
     "output_type": "stream",
     "text": [
      "\r",
      "bootstrap:   0% 0/1000 [00:00<?, ?it/s]"
     ]
    },
    {
     "name": "stderr",
     "output_type": "stream",
     "text": [
      "\r",
      "bootstrap:   0% 1/1000 [00:00<01:59,  8.39it/s]"
     ]
    },
    {
     "name": "stderr",
     "output_type": "stream",
     "text": [
      "\r",
      "bootstrap:   5% 53/1000 [00:00<00:03, 283.57it/s]"
     ]
    },
    {
     "name": "stderr",
     "output_type": "stream",
     "text": [
      "\r",
      "bootstrap:  10% 96/1000 [00:00<00:02, 346.58it/s]"
     ]
    },
    {
     "name": "stderr",
     "output_type": "stream",
     "text": [
      "\r",
      "bootstrap:  18% 180/1000 [00:00<00:01, 530.39it/s]"
     ]
    },
    {
     "name": "stderr",
     "output_type": "stream",
     "text": [
      "\r",
      "bootstrap:  26% 262/1000 [00:00<00:01, 624.33it/s]"
     ]
    },
    {
     "name": "stderr",
     "output_type": "stream",
     "text": [
      "\r",
      "bootstrap:  34% 336/1000 [00:00<00:01, 662.39it/s]"
     ]
    },
    {
     "name": "stderr",
     "output_type": "stream",
     "text": [
      "\r",
      "bootstrap:  42% 420/1000 [00:00<00:00, 701.35it/s]"
     ]
    },
    {
     "name": "stderr",
     "output_type": "stream",
     "text": [
      "\r",
      "bootstrap:  50% 502/1000 [00:00<00:00, 727.96it/s]"
     ]
    },
    {
     "name": "stderr",
     "output_type": "stream",
     "text": [
      "\r",
      "bootstrap:  58% 576/1000 [00:00<00:00, 729.93it/s]"
     ]
    },
    {
     "name": "stderr",
     "output_type": "stream",
     "text": [
      "\r",
      "bootstrap:  66% 656/1000 [00:01<00:00, 742.32it/s]"
     ]
    },
    {
     "name": "stderr",
     "output_type": "stream",
     "text": [
      "\r",
      "bootstrap:  74% 736/1000 [00:01<00:00, 747.92it/s]"
     ]
    },
    {
     "name": "stderr",
     "output_type": "stream",
     "text": [
      "\r",
      "bootstrap:  81% 814/1000 [00:01<00:00, 752.40it/s]"
     ]
    },
    {
     "name": "stderr",
     "output_type": "stream",
     "text": [
      "\r",
      "bootstrap:  90% 896/1000 [00:01<00:00, 768.02it/s]"
     ]
    },
    {
     "name": "stderr",
     "output_type": "stream",
     "text": [
      "\r",
      "bootstrap:  98% 981/1000 [00:01<00:00, 786.95it/s]"
     ]
    },
    {
     "name": "stderr",
     "output_type": "stream",
     "text": [
      "\r",
      "bootstrap: 100% 1000/1000 [00:01<00:00, 627.40it/s]"
     ]
    },
    {
     "name": "stderr",
     "output_type": "stream",
     "text": [
      "\n"
     ]
    },
    {
     "name": "stdout",
     "output_type": "stream",
     "text": [
      "stats (1000, 84)\n"
     ]
    },
    {
     "name": "stderr",
     "output_type": "stream",
     "text": [
      "\r",
      "bootstrap:   0% 0/1000 [00:00<?, ?it/s]"
     ]
    },
    {
     "name": "stderr",
     "output_type": "stream",
     "text": [
      "\r",
      "bootstrap:   0% 1/1000 [00:00<02:30,  6.62it/s]"
     ]
    },
    {
     "name": "stderr",
     "output_type": "stream",
     "text": [
      "\r",
      "bootstrap:   4% 36/1000 [00:00<00:05, 172.44it/s]"
     ]
    },
    {
     "name": "stderr",
     "output_type": "stream",
     "text": [
      "\r",
      "bootstrap:   7% 71/1000 [00:00<00:03, 242.87it/s]"
     ]
    },
    {
     "name": "stderr",
     "output_type": "stream",
     "text": [
      "\r",
      "bootstrap:  11% 110/1000 [00:00<00:03, 283.74it/s]"
     ]
    },
    {
     "name": "stderr",
     "output_type": "stream",
     "text": [
      "\r",
      "bootstrap:  16% 164/1000 [00:00<00:02, 363.05it/s]"
     ]
    },
    {
     "name": "stderr",
     "output_type": "stream",
     "text": [
      "\r",
      "bootstrap:  20% 202/1000 [00:00<00:02, 358.19it/s]"
     ]
    },
    {
     "name": "stderr",
     "output_type": "stream",
     "text": [
      "\r",
      "bootstrap:  24% 240/1000 [00:00<00:02, 360.65it/s]"
     ]
    },
    {
     "name": "stderr",
     "output_type": "stream",
     "text": [
      "\r",
      "bootstrap:  31% 310/1000 [00:00<00:01, 462.13it/s]"
     ]
    },
    {
     "name": "stderr",
     "output_type": "stream",
     "text": [
      "\r",
      "bootstrap:  36% 358/1000 [00:01<00:01, 417.14it/s]"
     ]
    },
    {
     "name": "stderr",
     "output_type": "stream",
     "text": [
      "\r",
      "bootstrap:  40% 402/1000 [00:01<00:01, 402.54it/s]"
     ]
    },
    {
     "name": "stderr",
     "output_type": "stream",
     "text": [
      "\r",
      "bootstrap:  48% 482/1000 [00:01<00:01, 494.17it/s]"
     ]
    },
    {
     "name": "stderr",
     "output_type": "stream",
     "text": [
      "\r",
      "bootstrap:  54% 544/1000 [00:01<00:00, 510.72it/s]"
     ]
    },
    {
     "name": "stderr",
     "output_type": "stream",
     "text": [
      "\r",
      "bootstrap:  60% 596/1000 [00:01<00:00, 482.79it/s]"
     ]
    },
    {
     "name": "stderr",
     "output_type": "stream",
     "text": [
      "\r",
      "bootstrap:  66% 658/1000 [00:01<00:00, 518.91it/s]"
     ]
    },
    {
     "name": "stderr",
     "output_type": "stream",
     "text": [
      "\r",
      "bootstrap:  71% 712/1000 [00:01<00:00, 463.02it/s]"
     ]
    },
    {
     "name": "stderr",
     "output_type": "stream",
     "text": [
      "\r",
      "bootstrap:  76% 760/1000 [00:01<00:00, 439.61it/s]"
     ]
    },
    {
     "name": "stderr",
     "output_type": "stream",
     "text": [
      "\r",
      "bootstrap:  83% 834/1000 [00:01<00:00, 499.61it/s]"
     ]
    },
    {
     "name": "stderr",
     "output_type": "stream",
     "text": [
      "\r",
      "bootstrap:  89% 887/1000 [00:02<00:00, 469.10it/s]"
     ]
    },
    {
     "name": "stderr",
     "output_type": "stream",
     "text": [
      "\r",
      "bootstrap:  96% 965/1000 [00:02<00:00, 547.26it/s]"
     ]
    },
    {
     "name": "stderr",
     "output_type": "stream",
     "text": [
      "\r",
      "bootstrap: 100% 1000/1000 [00:02<00:00, 419.31it/s]"
     ]
    },
    {
     "name": "stderr",
     "output_type": "stream",
     "text": [
      "\n"
     ]
    },
    {
     "name": "stdout",
     "output_type": "stream",
     "text": [
      "stats (1000, 84)\n",
      "days [1 2 3]\n"
     ]
    },
    {
     "name": "stdout",
     "output_type": "stream",
     "text": [
      "avg noise over trials\n",
      "X (1, 55, 693) X_avg (55, 693)\n",
      "average over epochs ['MD']\n",
      "X (1, 70, 693) X_avg (70, 693)\n",
      "average over epochs ['MD']\n"
     ]
    },
    {
     "name": "stdout",
     "output_type": "stream",
     "text": [
      "coefs (1, 693)\n",
      "sample DualGo\n",
      "days [1 2 3]\n"
     ]
    },
    {
     "name": "stdout",
     "output_type": "stream",
     "text": [
      "avg noise over trials\n"
     ]
    },
    {
     "name": "stderr",
     "output_type": "stream",
     "text": [
      "\r",
      "bootstrap:   0% 0/1000 [00:00<?, ?it/s]"
     ]
    },
    {
     "name": "stderr",
     "output_type": "stream",
     "text": [
      "\r",
      "bootstrap:   0% 1/1000 [00:00<01:45,  9.51it/s]"
     ]
    },
    {
     "name": "stderr",
     "output_type": "stream",
     "text": [
      "\r",
      "bootstrap:   4% 41/1000 [00:00<00:04, 223.78it/s]"
     ]
    },
    {
     "name": "stderr",
     "output_type": "stream",
     "text": [
      "\r",
      "bootstrap:   8% 85/1000 [00:00<00:02, 316.69it/s]"
     ]
    },
    {
     "name": "stderr",
     "output_type": "stream",
     "text": [
      "\r",
      "bootstrap:  14% 144/1000 [00:00<00:02, 415.11it/s]"
     ]
    },
    {
     "name": "stderr",
     "output_type": "stream",
     "text": [
      "\r",
      "bootstrap:  22% 224/1000 [00:00<00:01, 548.63it/s]"
     ]
    },
    {
     "name": "stderr",
     "output_type": "stream",
     "text": [
      "\r",
      "bootstrap:  31% 308/1000 [00:00<00:01, 644.66it/s]"
     ]
    },
    {
     "name": "stderr",
     "output_type": "stream",
     "text": [
      "\r",
      "bootstrap:  39% 386/1000 [00:00<00:00, 686.08it/s]"
     ]
    },
    {
     "name": "stderr",
     "output_type": "stream",
     "text": [
      "\r",
      "bootstrap:  47% 474/1000 [00:00<00:00, 743.43it/s]"
     ]
    },
    {
     "name": "stderr",
     "output_type": "stream",
     "text": [
      "\r",
      "bootstrap:  55% 550/1000 [00:00<00:00, 738.96it/s]"
     ]
    },
    {
     "name": "stderr",
     "output_type": "stream",
     "text": [
      "\r",
      "bootstrap:  63% 632/1000 [00:01<00:00, 762.64it/s]"
     ]
    },
    {
     "name": "stderr",
     "output_type": "stream",
     "text": [
      "\r",
      "bootstrap:  72% 716/1000 [00:01<00:00, 768.85it/s]"
     ]
    },
    {
     "name": "stderr",
     "output_type": "stream",
     "text": [
      "\r",
      "bootstrap:  79% 794/1000 [00:01<00:00, 763.99it/s]"
     ]
    },
    {
     "name": "stderr",
     "output_type": "stream",
     "text": [
      "\r",
      "bootstrap:  88% 880/1000 [00:01<00:00, 790.06it/s]"
     ]
    },
    {
     "name": "stderr",
     "output_type": "stream",
     "text": [
      "\r",
      "bootstrap:  96% 963/1000 [00:01<00:00, 801.75it/s]"
     ]
    },
    {
     "name": "stderr",
     "output_type": "stream",
     "text": [
      "\r",
      "bootstrap: 100% 1000/1000 [00:01<00:00, 621.54it/s]"
     ]
    },
    {
     "name": "stderr",
     "output_type": "stream",
     "text": [
      "\n"
     ]
    },
    {
     "name": "stdout",
     "output_type": "stream",
     "text": [
      "stats (1000, 84)\n"
     ]
    },
    {
     "name": "stderr",
     "output_type": "stream",
     "text": [
      "\r",
      "bootstrap:   0% 0/1000 [00:00<?, ?it/s]"
     ]
    },
    {
     "name": "stderr",
     "output_type": "stream",
     "text": [
      "\r",
      "bootstrap:   0% 1/1000 [00:00<01:44,  9.54it/s]"
     ]
    },
    {
     "name": "stderr",
     "output_type": "stream",
     "text": [
      "\r",
      "bootstrap:   5% 48/1000 [00:00<00:03, 272.15it/s]"
     ]
    },
    {
     "name": "stderr",
     "output_type": "stream",
     "text": [
      "\r",
      "bootstrap:   9% 91/1000 [00:00<00:02, 342.66it/s]"
     ]
    },
    {
     "name": "stderr",
     "output_type": "stream",
     "text": [
      "\r",
      "bootstrap:  15% 154/1000 [00:00<00:01, 449.81it/s]"
     ]
    },
    {
     "name": "stderr",
     "output_type": "stream",
     "text": [
      "\r",
      "bootstrap:  22% 224/1000 [00:00<00:01, 534.00it/s]"
     ]
    },
    {
     "name": "stderr",
     "output_type": "stream",
     "text": [
      "\r",
      "bootstrap:  30% 302/1000 [00:00<00:01, 611.48it/s]"
     ]
    },
    {
     "name": "stderr",
     "output_type": "stream",
     "text": [
      "\r",
      "bootstrap:  36% 364/1000 [00:00<00:01, 599.06it/s]"
     ]
    },
    {
     "name": "stderr",
     "output_type": "stream",
     "text": [
      "\r",
      "bootstrap:  45% 446/1000 [00:00<00:00, 663.07it/s]"
     ]
    },
    {
     "name": "stderr",
     "output_type": "stream",
     "text": [
      "\r",
      "bootstrap:  52% 520/1000 [00:00<00:00, 686.49it/s]"
     ]
    },
    {
     "name": "stderr",
     "output_type": "stream",
     "text": [
      "\r",
      "bootstrap:  59% 590/1000 [00:01<00:00, 679.24it/s]"
     ]
    },
    {
     "name": "stderr",
     "output_type": "stream",
     "text": [
      "\r",
      "bootstrap:  67% 670/1000 [00:01<00:00, 712.38it/s]"
     ]
    },
    {
     "name": "stderr",
     "output_type": "stream",
     "text": [
      "\r",
      "bootstrap:  75% 752/1000 [00:01<00:00, 743.23it/s]"
     ]
    },
    {
     "name": "stderr",
     "output_type": "stream",
     "text": [
      "\r",
      "bootstrap:  83% 828/1000 [00:01<00:00, 692.61it/s]"
     ]
    },
    {
     "name": "stderr",
     "output_type": "stream",
     "text": [
      "\r",
      "bootstrap:  93% 929/1000 [00:01<00:00, 776.40it/s]"
     ]
    },
    {
     "name": "stderr",
     "output_type": "stream",
     "text": [
      "\r",
      "bootstrap: 100% 1000/1000 [00:01<00:00, 588.11it/s]"
     ]
    },
    {
     "name": "stderr",
     "output_type": "stream",
     "text": [
      "\n"
     ]
    },
    {
     "name": "stdout",
     "output_type": "stream",
     "text": [
      "stats (1000, 84)\n"
     ]
    },
    {
     "name": "stderr",
     "output_type": "stream",
     "text": [
      "\r",
      "bootstrap:   0% 0/1000 [00:00<?, ?it/s]"
     ]
    },
    {
     "name": "stderr",
     "output_type": "stream",
     "text": [
      "\r",
      "bootstrap:   0% 1/1000 [00:00<02:20,  7.10it/s]"
     ]
    },
    {
     "name": "stderr",
     "output_type": "stream",
     "text": [
      "\r",
      "bootstrap:   4% 40/1000 [00:00<00:04, 198.23it/s]"
     ]
    },
    {
     "name": "stderr",
     "output_type": "stream",
     "text": [
      "\r",
      "bootstrap:   8% 85/1000 [00:00<00:03, 301.35it/s]"
     ]
    },
    {
     "name": "stderr",
     "output_type": "stream",
     "text": [
      "\r",
      "bootstrap:  12% 118/1000 [00:00<00:02, 298.24it/s]"
     ]
    },
    {
     "name": "stderr",
     "output_type": "stream",
     "text": [
      "\r",
      "bootstrap:  18% 176/1000 [00:00<00:02, 387.88it/s]"
     ]
    },
    {
     "name": "stderr",
     "output_type": "stream",
     "text": [
      "\r",
      "bootstrap:  22% 218/1000 [00:00<00:02, 385.11it/s]"
     ]
    },
    {
     "name": "stderr",
     "output_type": "stream",
     "text": [
      "\r",
      "bootstrap:  27% 272/1000 [00:00<00:01, 431.52it/s]"
     ]
    },
    {
     "name": "stderr",
     "output_type": "stream",
     "text": [
      "\r",
      "bootstrap:  33% 334/1000 [00:00<00:01, 477.33it/s]"
     ]
    },
    {
     "name": "stderr",
     "output_type": "stream",
     "text": [
      "\r",
      "bootstrap:  40% 398/1000 [00:00<00:01, 507.96it/s]"
     ]
    },
    {
     "name": "stderr",
     "output_type": "stream",
     "text": [
      "\r",
      "bootstrap:  45% 450/1000 [00:01<00:01, 507.86it/s]"
     ]
    },
    {
     "name": "stderr",
     "output_type": "stream",
     "text": [
      "\r",
      "bootstrap:  51% 506/1000 [00:01<00:00, 510.58it/s]"
     ]
    },
    {
     "name": "stderr",
     "output_type": "stream",
     "text": [
      "\r",
      "bootstrap:  56% 558/1000 [00:01<00:00, 507.57it/s]"
     ]
    },
    {
     "name": "stderr",
     "output_type": "stream",
     "text": [
      "\r",
      "bootstrap:  61% 610/1000 [00:01<00:00, 487.25it/s]"
     ]
    },
    {
     "name": "stderr",
     "output_type": "stream",
     "text": [
      "\r",
      "bootstrap:  66% 660/1000 [00:01<00:00, 470.06it/s]"
     ]
    },
    {
     "name": "stderr",
     "output_type": "stream",
     "text": [
      "\r",
      "bootstrap:  71% 712/1000 [00:01<00:00, 480.47it/s]"
     ]
    },
    {
     "name": "stderr",
     "output_type": "stream",
     "text": [
      "\r",
      "bootstrap:  76% 764/1000 [00:01<00:00, 488.89it/s]"
     ]
    },
    {
     "name": "stderr",
     "output_type": "stream",
     "text": [
      "\r",
      "bootstrap:  83% 830/1000 [00:01<00:00, 535.74it/s]"
     ]
    },
    {
     "name": "stderr",
     "output_type": "stream",
     "text": [
      "\r",
      "bootstrap:  88% 884/1000 [00:01<00:00, 530.70it/s]"
     ]
    },
    {
     "name": "stderr",
     "output_type": "stream",
     "text": [
      "\r",
      "bootstrap:  95% 954/1000 [00:02<00:00, 577.76it/s]"
     ]
    },
    {
     "name": "stderr",
     "output_type": "stream",
     "text": [
      "\r",
      "bootstrap: 100% 1000/1000 [00:02<00:00, 445.88it/s]"
     ]
    },
    {
     "name": "stderr",
     "output_type": "stream",
     "text": [
      "\n"
     ]
    },
    {
     "name": "stdout",
     "output_type": "stream",
     "text": [
      "stats (1000, 84)\n",
      "/homecentral/alexandre.mahrach/IDIBAPS/python/data_analysis/figs/22-05-05/laser_off/rawF/t_window_1.0\n"
     ]
    },
    {
     "name": "stdout",
     "output_type": "stream",
     "text": [
      "save fig to /homecentral/alexandre.mahrach/IDIBAPS/python/data_analysis/figs/22-05-05/laser_off/rawF/t_window_1.0/n_days_6/selectivity/pval_0.050/distractor/JawsM15\n",
      "figname proj_DualGo_day_first_correct\n"
     ]
    },
    {
     "data": {
      "image/png": "[encoded data removed]",
      "text/plain": [
       "<Figure size 436.86x174.744 with 2 Axes>"
      ]
     },
     "metadata": {},
     "output_type": "display_data"
    },
    {
     "name": "stdout",
     "output_type": "stream",
     "text": [
      "clf Pipeline(steps=[('filter', SelectFpr()),\n",
      "                ('clf',\n",
      "                 LogisticRegressionCV(Cs=array([1.00000000e-04, 1.60371874e-04, 2.57191381e-04, 4.12462638e-04,\n",
      "       6.61474064e-04, 1.06081836e-03, 1.70125428e-03, 2.72833338e-03,\n",
      "       4.37547938e-03, 7.01703829e-03, 1.12533558e-02, 1.80472177e-02,\n",
      "       2.89426612e-02, 4.64158883e-02, 7.44380301e-02, 1.19377664e-01,\n",
      "       1.91448198e-01, 3.07029063e-01, 4.9...\n",
      "       8.37677640e+00, 1.34339933e+01, 2.15443469e+01, 3.45510729e+01,\n",
      "       5.54102033e+01, 8.88623816e+01, 1.42510267e+02, 2.28546386e+02,\n",
      "       3.66524124e+02, 5.87801607e+02, 9.42668455e+02, 1.51177507e+03,\n",
      "       2.42446202e+03, 3.88815518e+03, 6.23550734e+03, 1.00000000e+04]),\n",
      "                                      cv=LeaveOneOut(), intercept_scaling=1,\n",
      "                                      max_iter=1000, n_jobs=50, penalty='l1',\n",
      "                                      scoring='accuracy',\n",
      "                                      solver='liblinear'))])\n",
      "days [1 2 3]\n"
     ]
    },
    {
     "name": "stdout",
     "output_type": "stream",
     "text": [
      "avg noise over trials\n",
      "X (1, 60, 693) X_avg (60, 693)\n",
      "average over epochs ['ED']\n",
      "X (1, 65, 693) X_avg (65, 693)\n",
      "average over epochs ['ED']\n"
     ]
    },
    {
     "name": "stdout",
     "output_type": "stream",
     "text": [
      "coefs (1, 693)\n",
      "sample DualGo\n",
      "days [1 2 3]\n"
     ]
    },
    {
     "name": "stdout",
     "output_type": "stream",
     "text": [
      "avg noise over trials\n"
     ]
    },
    {
     "name": "stderr",
     "output_type": "stream",
     "text": [
      "\r",
      "bootstrap:   0% 0/1000 [00:00<?, ?it/s]"
     ]
    },
    {
     "name": "stderr",
     "output_type": "stream",
     "text": [
      "\r",
      "bootstrap:   0% 1/1000 [00:00<10:08,  1.64it/s]"
     ]
    },
    {
     "name": "stderr",
     "output_type": "stream",
     "text": [
      "\r",
      "bootstrap:   6% 55/1000 [00:00<00:09, 102.68it/s]"
     ]
    },
    {
     "name": "stderr",
     "output_type": "stream",
     "text": [
      "\r",
      "bootstrap:   9% 92/1000 [00:00<00:05, 159.18it/s]"
     ]
    },
    {
     "name": "stderr",
     "output_type": "stream",
     "text": [
      "\r",
      "bootstrap:  14% 138/1000 [00:00<00:03, 228.90it/s]"
     ]
    },
    {
     "name": "stderr",
     "output_type": "stream",
     "text": [
      "\r",
      "bootstrap:  18% 185/1000 [00:01<00:02, 286.04it/s]"
     ]
    },
    {
     "name": "stderr",
     "output_type": "stream",
     "text": [
      "\r",
      "bootstrap:  23% 229/1000 [00:01<00:02, 325.20it/s]"
     ]
    },
    {
     "name": "stderr",
     "output_type": "stream",
     "text": [
      "\r",
      "bootstrap:  28% 277/1000 [00:01<00:01, 365.66it/s]"
     ]
    },
    {
     "name": "stderr",
     "output_type": "stream",
     "text": [
      "\r",
      "bootstrap:  34% 343/1000 [00:01<00:01, 444.96it/s]"
     ]
    },
    {
     "name": "stderr",
     "output_type": "stream",
     "text": [
      "\r",
      "bootstrap:  41% 407/1000 [00:01<00:01, 499.46it/s]"
     ]
    },
    {
     "name": "stderr",
     "output_type": "stream",
     "text": [
      "\r",
      "bootstrap:  48% 479/1000 [00:01<00:00, 562.46it/s]"
     ]
    },
    {
     "name": "stderr",
     "output_type": "stream",
     "text": [
      "\r",
      "bootstrap:  57% 569/1000 [00:01<00:00, 653.37it/s]"
     ]
    },
    {
     "name": "stderr",
     "output_type": "stream",
     "text": [
      "\r",
      "bootstrap:  64% 645/1000 [00:01<00:00, 680.15it/s]"
     ]
    },
    {
     "name": "stderr",
     "output_type": "stream",
     "text": [
      "\r",
      "bootstrap:  72% 721/1000 [00:01<00:00, 695.63it/s]"
     ]
    },
    {
     "name": "stderr",
     "output_type": "stream",
     "text": [
      "\r",
      "bootstrap:  80% 805/1000 [00:01<00:00, 730.13it/s]"
     ]
    },
    {
     "name": "stderr",
     "output_type": "stream",
     "text": [
      "\r",
      "bootstrap:  89% 893/1000 [00:02<00:00, 771.69it/s]"
     ]
    },
    {
     "name": "stderr",
     "output_type": "stream",
     "text": [
      "\r",
      "bootstrap:  97% 971/1000 [00:02<00:00, 764.30it/s]"
     ]
    },
    {
     "name": "stderr",
     "output_type": "stream",
     "text": [
      "\r",
      "bootstrap: 100% 1000/1000 [00:02<00:00, 435.37it/s]"
     ]
    },
    {
     "name": "stderr",
     "output_type": "stream",
     "text": [
      "\n"
     ]
    },
    {
     "name": "stdout",
     "output_type": "stream",
     "text": [
      "stats (1000, 84)\n"
     ]
    },
    {
     "name": "stderr",
     "output_type": "stream",
     "text": [
      "\r",
      "bootstrap:   0% 0/1000 [00:00<?, ?it/s]"
     ]
    },
    {
     "name": "stderr",
     "output_type": "stream",
     "text": [
      "\r",
      "bootstrap:   0% 1/1000 [00:00<02:10,  7.63it/s]"
     ]
    },
    {
     "name": "stderr",
     "output_type": "stream",
     "text": [
      "\r",
      "bootstrap:   6% 58/1000 [00:00<00:03, 299.70it/s]"
     ]
    },
    {
     "name": "stderr",
     "output_type": "stream",
     "text": [
      "\r",
      "bootstrap:  11% 114/1000 [00:00<00:02, 409.76it/s]"
     ]
    },
    {
     "name": "stderr",
     "output_type": "stream",
     "text": [
      "\r",
      "bootstrap:  20% 198/1000 [00:00<00:01, 568.95it/s]"
     ]
    },
    {
     "name": "stderr",
     "output_type": "stream",
     "text": [
      "\r",
      "bootstrap:  28% 282/1000 [00:00<00:01, 627.66it/s]"
     ]
    },
    {
     "name": "stderr",
     "output_type": "stream",
     "text": [
      "\r",
      "bootstrap:  37% 370/1000 [00:00<00:00, 662.07it/s]"
     ]
    },
    {
     "name": "stderr",
     "output_type": "stream",
     "text": [
      "\r",
      "bootstrap:  50% 502/1000 [00:00<00:00, 850.43it/s]"
     ]
    },
    {
     "name": "stderr",
     "output_type": "stream",
     "text": [
      "\r",
      "bootstrap:  59% 590/1000 [00:00<00:00, 763.72it/s]"
     ]
    },
    {
     "name": "stderr",
     "output_type": "stream",
     "text": [
      "\r",
      "bootstrap:  67% 670/1000 [00:01<00:00, 748.29it/s]"
     ]
    },
    {
     "name": "stderr",
     "output_type": "stream",
     "text": [
      "\r",
      "bootstrap:  82% 818/1000 [00:01<00:00, 947.67it/s]"
     ]
    },
    {
     "name": "stderr",
     "output_type": "stream",
     "text": [
      "\r",
      "bootstrap:  92% 917/1000 [00:01<00:00, 866.94it/s]"
     ]
    },
    {
     "name": "stderr",
     "output_type": "stream",
     "text": [
      "\r",
      "bootstrap: 100% 1000/1000 [00:01<00:00, 666.40it/s]"
     ]
    },
    {
     "name": "stderr",
     "output_type": "stream",
     "text": [
      "\n"
     ]
    },
    {
     "name": "stdout",
     "output_type": "stream",
     "text": [
      "stats (1000, 84)\n"
     ]
    },
    {
     "name": "stderr",
     "output_type": "stream",
     "text": [
      "\r",
      "bootstrap:   0% 0/1000 [00:00<?, ?it/s]"
     ]
    },
    {
     "name": "stderr",
     "output_type": "stream",
     "text": [
      "\r",
      "bootstrap:   0% 1/1000 [00:00<01:50,  9.08it/s]"
     ]
    },
    {
     "name": "stderr",
     "output_type": "stream",
     "text": [
      "\r",
      "bootstrap:   5% 47/1000 [00:00<00:03, 258.27it/s]"
     ]
    },
    {
     "name": "stderr",
     "output_type": "stream",
     "text": [
      "\r",
      "bootstrap:   8% 85/1000 [00:00<00:02, 309.81it/s]"
     ]
    },
    {
     "name": "stderr",
     "output_type": "stream",
     "text": [
      "\r",
      "bootstrap:  12% 118/1000 [00:00<00:02, 299.75it/s]"
     ]
    },
    {
     "name": "stderr",
     "output_type": "stream",
     "text": [
      "\r",
      "bootstrap:  16% 162/1000 [00:00<00:02, 336.46it/s]"
     ]
    },
    {
     "name": "stderr",
     "output_type": "stream",
     "text": [
      "\r",
      "bootstrap:  22% 220/1000 [00:00<00:01, 402.40it/s]"
     ]
    },
    {
     "name": "stderr",
     "output_type": "stream",
     "text": [
      "\r",
      "bootstrap:  28% 278/1000 [00:00<00:01, 455.42it/s]"
     ]
    },
    {
     "name": "stderr",
     "output_type": "stream",
     "text": [
      "\r",
      "bootstrap:  33% 328/1000 [00:00<00:01, 467.46it/s]"
     ]
    },
    {
     "name": "stderr",
     "output_type": "stream",
     "text": [
      "\r",
      "bootstrap:  40% 398/1000 [00:00<00:01, 531.86it/s]"
     ]
    },
    {
     "name": "stderr",
     "output_type": "stream",
     "text": [
      "\r",
      "bootstrap:  46% 458/1000 [00:01<00:00, 549.30it/s]"
     ]
    },
    {
     "name": "stderr",
     "output_type": "stream",
     "text": [
      "\r",
      "bootstrap:  51% 514/1000 [00:01<00:00, 491.21it/s]"
     ]
    },
    {
     "name": "stderr",
     "output_type": "stream",
     "text": [
      "\r",
      "bootstrap:  57% 570/1000 [00:01<00:00, 483.28it/s]"
     ]
    },
    {
     "name": "stderr",
     "output_type": "stream",
     "text": [
      "\r",
      "bootstrap:  62% 620/1000 [00:01<00:00, 437.00it/s]"
     ]
    },
    {
     "name": "stderr",
     "output_type": "stream",
     "text": [
      "\r",
      "bootstrap:  67% 666/1000 [00:01<00:00, 419.05it/s]"
     ]
    },
    {
     "name": "stderr",
     "output_type": "stream",
     "text": [
      "\r",
      "bootstrap:  74% 740/1000 [00:01<00:00, 499.47it/s]"
     ]
    },
    {
     "name": "stderr",
     "output_type": "stream",
     "text": [
      "\r",
      "bootstrap:  80% 804/1000 [00:01<00:00, 527.75it/s]"
     ]
    },
    {
     "name": "stderr",
     "output_type": "stream",
     "text": [
      "\r",
      "bootstrap:  86% 860/1000 [00:01<00:00, 445.44it/s]"
     ]
    },
    {
     "name": "stderr",
     "output_type": "stream",
     "text": [
      "\r",
      "bootstrap:  94% 936/1000 [00:02<00:00, 521.45it/s]"
     ]
    },
    {
     "name": "stderr",
     "output_type": "stream",
     "text": [
      "\r",
      "bootstrap:  99% 992/1000 [00:02<00:00, 501.30it/s]"
     ]
    },
    {
     "name": "stderr",
     "output_type": "stream",
     "text": [
      "\r",
      "bootstrap: 100% 1000/1000 [00:02<00:00, 432.72it/s]"
     ]
    },
    {
     "name": "stderr",
     "output_type": "stream",
     "text": [
      "\n"
     ]
    },
    {
     "name": "stdout",
     "output_type": "stream",
     "text": [
      "stats (1000, 84)\n",
      "days [1 2 3]\n"
     ]
    },
    {
     "name": "stdout",
     "output_type": "stream",
     "text": [
      "avg noise over trials\n",
      "X (1, 55, 693) X_avg (55, 693)\n",
      "average over epochs ['MD']\n",
      "X (1, 70, 693) X_avg (70, 693)\n",
      "average over epochs ['MD']\n"
     ]
    },
    {
     "name": "stdout",
     "output_type": "stream",
     "text": [
      "coefs (1, 693)\n",
      "sample DualGo\n",
      "days [1 2 3]\n"
     ]
    },
    {
     "name": "stdout",
     "output_type": "stream",
     "text": [
      "avg noise over trials\n"
     ]
    },
    {
     "name": "stderr",
     "output_type": "stream",
     "text": [
      "\r",
      "bootstrap:   0% 0/1000 [00:00<?, ?it/s]"
     ]
    },
    {
     "name": "stderr",
     "output_type": "stream",
     "text": [
      "\r",
      "bootstrap:   0% 1/1000 [00:00<11:00,  1.51it/s]"
     ]
    },
    {
     "name": "stderr",
     "output_type": "stream",
     "text": [
      "\r",
      "bootstrap:   5% 52/1000 [00:00<00:10, 91.65it/s]"
     ]
    },
    {
     "name": "stderr",
     "output_type": "stream",
     "text": [
      "\r",
      "bootstrap:   9% 93/1000 [00:00<00:05, 154.33it/s]"
     ]
    },
    {
     "name": "stderr",
     "output_type": "stream",
     "text": [
      "\r",
      "bootstrap:  14% 143/1000 [00:00<00:03, 230.84it/s]"
     ]
    },
    {
     "name": "stderr",
     "output_type": "stream",
     "text": [
      "\r",
      "bootstrap:  19% 191/1000 [00:01<00:02, 288.11it/s]"
     ]
    },
    {
     "name": "stderr",
     "output_type": "stream",
     "text": [
      "\r",
      "bootstrap:  24% 235/1000 [00:01<00:02, 326.26it/s]"
     ]
    },
    {
     "name": "stderr",
     "output_type": "stream",
     "text": [
      "\r",
      "bootstrap:  28% 284/1000 [00:01<00:01, 362.10it/s]"
     ]
    },
    {
     "name": "stderr",
     "output_type": "stream",
     "text": [
      "\r",
      "bootstrap:  37% 366/1000 [00:01<00:01, 486.17it/s]"
     ]
    },
    {
     "name": "stderr",
     "output_type": "stream",
     "text": [
      "\r",
      "bootstrap:  44% 442/1000 [00:01<00:00, 562.53it/s]"
     ]
    },
    {
     "name": "stderr",
     "output_type": "stream",
     "text": [
      "\r",
      "bootstrap:  53% 534/1000 [00:01<00:00, 657.18it/s]"
     ]
    },
    {
     "name": "stderr",
     "output_type": "stream",
     "text": [
      "\r",
      "bootstrap:  63% 626/1000 [00:01<00:00, 726.74it/s]"
     ]
    },
    {
     "name": "stderr",
     "output_type": "stream",
     "text": [
      "\r",
      "bootstrap:  70% 704/1000 [00:01<00:00, 709.18it/s]"
     ]
    },
    {
     "name": "stderr",
     "output_type": "stream",
     "text": [
      "\r",
      "bootstrap:  80% 796/1000 [00:01<00:00, 763.90it/s]"
     ]
    },
    {
     "name": "stderr",
     "output_type": "stream",
     "text": [
      "\r",
      "bootstrap:  88% 876/1000 [00:02<00:00, 770.86it/s]"
     ]
    },
    {
     "name": "stderr",
     "output_type": "stream",
     "text": [
      "\r",
      "bootstrap:  96% 956/1000 [00:02<00:00, 769.79it/s]"
     ]
    },
    {
     "name": "stderr",
     "output_type": "stream",
     "text": [
      "\r",
      "bootstrap: 100% 1000/1000 [00:02<00:00, 436.34it/s]"
     ]
    },
    {
     "name": "stderr",
     "output_type": "stream",
     "text": [
      "\n"
     ]
    },
    {
     "name": "stdout",
     "output_type": "stream",
     "text": [
      "stats (1000, 84)\n"
     ]
    },
    {
     "name": "stderr",
     "output_type": "stream",
     "text": [
      "\r",
      "bootstrap:   0% 0/1000 [00:00<?, ?it/s]"
     ]
    },
    {
     "name": "stderr",
     "output_type": "stream",
     "text": [
      "\r",
      "bootstrap:   0% 1/1000 [00:00<02:09,  7.71it/s]"
     ]
    },
    {
     "name": "stderr",
     "output_type": "stream",
     "text": [
      "\r",
      "bootstrap:   4% 39/1000 [00:00<00:04, 200.08it/s]"
     ]
    },
    {
     "name": "stderr",
     "output_type": "stream",
     "text": [
      "\r",
      "bootstrap:   8% 77/1000 [00:00<00:03, 274.94it/s]"
     ]
    },
    {
     "name": "stderr",
     "output_type": "stream",
     "text": [
      "\r",
      "bootstrap:  12% 120/1000 [00:00<00:02, 332.90it/s]"
     ]
    },
    {
     "name": "stderr",
     "output_type": "stream",
     "text": [
      "\r",
      "bootstrap:  18% 178/1000 [00:00<00:01, 411.25it/s]"
     ]
    },
    {
     "name": "stderr",
     "output_type": "stream",
     "text": [
      "\r",
      "bootstrap:  24% 240/1000 [00:00<00:01, 476.03it/s]"
     ]
    },
    {
     "name": "stderr",
     "output_type": "stream",
     "text": [
      "\r",
      "bootstrap:  30% 304/1000 [00:00<00:01, 527.82it/s]"
     ]
    },
    {
     "name": "stderr",
     "output_type": "stream",
     "text": [
      "\r",
      "bootstrap:  39% 388/1000 [00:00<00:01, 604.34it/s]"
     ]
    },
    {
     "name": "stderr",
     "output_type": "stream",
     "text": [
      "\r",
      "bootstrap:  46% 462/1000 [00:00<00:00, 644.86it/s]"
     ]
    },
    {
     "name": "stderr",
     "output_type": "stream",
     "text": [
      "\r",
      "bootstrap:  54% 542/1000 [00:01<00:00, 691.17it/s]"
     ]
    },
    {
     "name": "stderr",
     "output_type": "stream",
     "text": [
      "\r",
      "bootstrap:  63% 634/1000 [00:01<00:00, 703.57it/s]"
     ]
    },
    {
     "name": "stderr",
     "output_type": "stream",
     "text": [
      "\r",
      "bootstrap:  73% 732/1000 [00:01<00:00, 780.42it/s]"
     ]
    },
    {
     "name": "stderr",
     "output_type": "stream",
     "text": [
      "\r",
      "bootstrap:  81% 812/1000 [00:01<00:00, 771.12it/s]"
     ]
    },
    {
     "name": "stderr",
     "output_type": "stream",
     "text": [
      "\r",
      "bootstrap:  89% 890/1000 [00:01<00:00, 766.63it/s]"
     ]
    },
    {
     "name": "stderr",
     "output_type": "stream",
     "text": [
      "\r",
      "bootstrap:  97% 967/1000 [00:01<00:00, 755.14it/s]"
     ]
    },
    {
     "name": "stderr",
     "output_type": "stream",
     "text": [
      "\r",
      "bootstrap: 100% 1000/1000 [00:01<00:00, 567.62it/s]"
     ]
    },
    {
     "name": "stderr",
     "output_type": "stream",
     "text": [
      "\n"
     ]
    },
    {
     "name": "stdout",
     "output_type": "stream",
     "text": [
      "stats (1000, 84)\n"
     ]
    },
    {
     "name": "stderr",
     "output_type": "stream",
     "text": [
      "\r",
      "bootstrap:   0% 0/1000 [00:00<?, ?it/s]"
     ]
    },
    {
     "name": "stderr",
     "output_type": "stream",
     "text": [
      "\r",
      "bootstrap:   0% 1/1000 [00:00<02:06,  7.89it/s]"
     ]
    },
    {
     "name": "stderr",
     "output_type": "stream",
     "text": [
      "\r",
      "bootstrap:   5% 49/1000 [00:00<00:03, 256.88it/s]"
     ]
    },
    {
     "name": "stderr",
     "output_type": "stream",
     "text": [
      "\r",
      "bootstrap:   9% 91/1000 [00:00<00:02, 319.99it/s]"
     ]
    },
    {
     "name": "stderr",
     "output_type": "stream",
     "text": [
      "\r",
      "bootstrap:  13% 126/1000 [00:00<00:03, 285.61it/s]"
     ]
    },
    {
     "name": "stderr",
     "output_type": "stream",
     "text": [
      "\r",
      "bootstrap:  16% 158/1000 [00:00<00:02, 282.94it/s]"
     ]
    },
    {
     "name": "stderr",
     "output_type": "stream",
     "text": [
      "\r",
      "bootstrap:  20% 204/1000 [00:00<00:02, 331.84it/s]"
     ]
    },
    {
     "name": "stderr",
     "output_type": "stream",
     "text": [
      "\r",
      "bootstrap:  26% 264/1000 [00:00<00:01, 400.70it/s]"
     ]
    },
    {
     "name": "stderr",
     "output_type": "stream",
     "text": [
      "\r",
      "bootstrap:  31% 308/1000 [00:00<00:01, 406.78it/s]"
     ]
    },
    {
     "name": "stderr",
     "output_type": "stream",
     "text": [
      "\r",
      "bootstrap:  37% 368/1000 [00:01<00:01, 445.75it/s]"
     ]
    },
    {
     "name": "stderr",
     "output_type": "stream",
     "text": [
      "\r",
      "bootstrap:  42% 422/1000 [00:01<00:01, 466.59it/s]"
     ]
    },
    {
     "name": "stderr",
     "output_type": "stream",
     "text": [
      "\r",
      "bootstrap:  48% 480/1000 [00:01<00:01, 483.70it/s]"
     ]
    },
    {
     "name": "stderr",
     "output_type": "stream",
     "text": [
      "\r",
      "bootstrap:  53% 530/1000 [00:01<00:00, 470.76it/s]"
     ]
    },
    {
     "name": "stderr",
     "output_type": "stream",
     "text": [
      "\r",
      "bootstrap:  58% 578/1000 [00:01<00:00, 458.88it/s]"
     ]
    },
    {
     "name": "stderr",
     "output_type": "stream",
     "text": [
      "\r",
      "bootstrap:  63% 634/1000 [00:01<00:00, 481.32it/s]"
     ]
    },
    {
     "name": "stderr",
     "output_type": "stream",
     "text": [
      "\r",
      "bootstrap:  69% 686/1000 [00:01<00:00, 477.35it/s]"
     ]
    },
    {
     "name": "stderr",
     "output_type": "stream",
     "text": [
      "\r",
      "bootstrap:  73% 734/1000 [00:01<00:00, 440.28it/s]"
     ]
    },
    {
     "name": "stderr",
     "output_type": "stream",
     "text": [
      "\r",
      "bootstrap:  80% 800/1000 [00:01<00:00, 474.06it/s]"
     ]
    },
    {
     "name": "stderr",
     "output_type": "stream",
     "text": [
      "\r",
      "bootstrap:  85% 854/1000 [00:02<00:00, 483.86it/s]"
     ]
    },
    {
     "name": "stderr",
     "output_type": "stream",
     "text": [
      "\r",
      "bootstrap:  91% 914/1000 [00:02<00:00, 506.61it/s]"
     ]
    },
    {
     "name": "stderr",
     "output_type": "stream",
     "text": [
      "\r",
      "bootstrap:  99% 993/1000 [00:02<00:00, 581.12it/s]"
     ]
    },
    {
     "name": "stderr",
     "output_type": "stream",
     "text": [
      "\r",
      "bootstrap: 100% 1000/1000 [00:02<00:00, 424.47it/s]"
     ]
    },
    {
     "name": "stderr",
     "output_type": "stream",
     "text": [
      "\n"
     ]
    },
    {
     "name": "stdout",
     "output_type": "stream",
     "text": [
      "stats (1000, 84)\n",
      "/homecentral/alexandre.mahrach/IDIBAPS/python/data_analysis/figs/22-05-05/laser_off/rawF/t_window_1.0\n"
     ]
    },
    {
     "name": "stdout",
     "output_type": "stream",
     "text": [
      "save fig to /homecentral/alexandre.mahrach/IDIBAPS/python/data_analysis/figs/22-05-05/laser_off/rawF/t_window_1.0/n_days_6/selectivity/pval_0.050/distractor/JawsM15\n",
      "figname proj_DualGo_day_first_correct\n"
     ]
    },
    {
     "data": {
      "image/png": "[encoded data removed]",
      "text/plain": [
       "<Figure size 436.86x174.744 with 2 Axes>"
      ]
     },
     "metadata": {},
     "output_type": "display_data"
    }
   ],
   "source": [
    "run overlap_2D.py 2 DualGo first correct"
   ]
  },
  {
   "cell_type": "code",
   "execution_count": 6,
   "id": "64fd3ece",
   "metadata": {
    "collapsed": false
   },
   "outputs": [
    {
     "data": {
      "text/plain": [
       "[]"
      ]
     },
     "execution_count": 6,
     "metadata": {},
     "output_type": "execute_result"
    },
    {
     "data": {
      "image/png": "[encoded data removed]",
      "text/plain": [
       "<Figure size 432x288 with 1 Axes>"
      ]
     },
     "metadata": {
      "needs_background": "light"
     },
     "output_type": "display_data"
    }
   ],
   "source": [
    "plt.plot()"
   ]
  },
  {
   "cell_type": "code",
   "execution_count": 2,
   "id": "c98f38b5",
   "metadata": {
    "collapsed": false
   },
   "outputs": [],
   "source": []
  },
  {
   "cell_type": "code",
   "execution_count": null,
   "id": "63cf37e5",
   "metadata": {
    "collapsed": false
   },
   "outputs": [],
   "source": []
  }
 ],
 "metadata": {
  "kernelspec": {
   "argv": [
    "python",
    "-m",
    "ipykernel_launcher",
    "-f",
    "{connection_file}"
   ],
   "display_name": "Python 3",
   "env": null,
   "interrupt_mode": "signal",
   "language": "python",
   "metadata": null,
   "name": "python3"
  },
  "name": "overlap.ipynb"
 },
 "nbformat": 4,
 "nbformat_minor": 5
}
